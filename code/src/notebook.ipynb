{
 "cells": [
  {
   "cell_type": "code",
   "execution_count": 1,
   "metadata": {},
   "outputs": [
    {
     "name": "stderr",
     "output_type": "stream",
     "text": [
      "c:\\Users\\kdkas\\Desktop\\DE_task\\myenv\\Lib\\site-packages\\tqdm\\auto.py:21: TqdmWarning: IProgress not found. Please update jupyter and ipywidgets. See https://ipywidgets.readthedocs.io/en/stable/user_install.html\n",
      "  from .autonotebook import tqdm as notebook_tqdm\n"
     ]
    }
   ],
   "source": [
    "import os\n",
    "import pandas as pd\n",
    "import findspark\n",
    "import pyspark.sql.functions as F\n",
    "from pyspark.sql import SparkSession\n",
    "from pyspark.sql.functions import col, explode, split, lower\n",
    "from pyspark.sql.functions import regexp_replace\n",
    "from datasets import load_dataset\n",
    "import logging"
   ]
  },
  {
   "cell_type": "code",
   "execution_count": 2,
   "metadata": {},
   "outputs": [
    {
     "name": "stdout",
     "output_type": "stream",
     "text": [
      "C:\\hadoop\n"
     ]
    }
   ],
   "source": [
    "hadoop_home = os.environ.get(\"HADOOP_HOME\")\n",
    "print(hadoop_home)"
   ]
  },
  {
   "cell_type": "code",
   "execution_count": 3,
   "metadata": {},
   "outputs": [],
   "source": [
    "\n",
    "def init_spark():\n",
    "    \"\"\"Initialize a Spark session\"\"\"\n",
    "    findspark.init()\n",
    "    spark = SparkSession.builder \\\n",
    "    .appName(\"AGNewsProcessing\") \\\n",
    "    .config(\"spark.hadoop.fs.permissions.umask-mode\", \"007\") \\\n",
    "    .config(\"spark.hadoop.fs.defaultFS\", \"file:///\") \\\n",
    "    .config(\"spark.hadoop.hadoop.home.dir\", hadoop_home) \\\n",
    "    .getOrCreate()\n",
    "\n",
    "    return spark\n",
    "\n",
    "def load_data():\n",
    "    \"\"\"Load AG News dataset into a PySpark DataFrame\"\"\"\n",
    "    # Load dataset as a list of dictionaries\n",
    "    dataset = load_dataset(\"sh0416/ag_news\", split=\"test\")\n",
    "\n",
    "    # Convert dataset to Pandas DataFrame\n",
    "    df = pd.DataFrame(dataset)\n",
    "\n",
    "    output_dir = \"../data\"\n",
    "    os.makedirs(output_dir, exist_ok=True)\n",
    "    csv_path = os.path.join(output_dir, \"ag_news_test.csv\")\n",
    "    df.to_csv(csv_path, index=False)\n",
    "\n",
    "    print(\"Test data CSV file successfully written to 'data/' directory.\")\n"
   ]
  },
  {
   "cell_type": "code",
   "execution_count": 4,
   "metadata": {},
   "outputs": [],
   "source": [
    "spark = init_spark()"
   ]
  },
  {
   "cell_type": "code",
   "execution_count": 5,
   "metadata": {},
   "outputs": [
    {
     "name": "stdout",
     "output_type": "stream",
     "text": [
      "Test data CSV file successfully written to 'data/' directory.\n"
     ]
    }
   ],
   "source": [
    "load_data()"
   ]
  },
  {
   "cell_type": "code",
   "execution_count": null,
   "metadata": {},
   "outputs": [],
   "source": [
    "df_spark = spark.read.csv(\"../data/ag_news_test.csv\", header=True, inferSchema=True)"
   ]
  },
  {
   "cell_type": "code",
   "execution_count": 7,
   "metadata": {},
   "outputs": [
    {
     "name": "stdout",
     "output_type": "stream",
     "text": [
      "root\n",
      " |-- label: integer (nullable = true)\n",
      " |-- title: string (nullable = true)\n",
      " |-- description: string (nullable = true)\n",
      "\n"
     ]
    }
   ],
   "source": [
    "df_spark.printSchema()"
   ]
  },
  {
   "cell_type": "code",
   "execution_count": 8,
   "metadata": {},
   "outputs": [],
   "source": [
    "df_spark.createOrReplaceTempView(\"news\")"
   ]
  },
  {
   "cell_type": "code",
   "execution_count": 9,
   "metadata": {},
   "outputs": [
    {
     "name": "stdout",
     "output_type": "stream",
     "text": [
      "+-----+--------------------+--------------------+\n",
      "|label|               title|         description|\n",
      "+-----+--------------------+--------------------+\n",
      "|    3|Fears for T N pen...|Unions representi...|\n",
      "|    4|The Race is On: S...|SPACE.com - TORON...|\n",
      "|    4|Ky. Company Wins ...|AP - A company fo...|\n",
      "|    4|Prediction Unit H...|AP - It's barely ...|\n",
      "|    4|Calif. Aims to Li...|AP - Southern Cal...|\n",
      "+-----+--------------------+--------------------+\n",
      "\n"
     ]
    }
   ],
   "source": [
    "spark.sql(\"select * from news limit 5\").show()"
   ]
  },
  {
   "cell_type": "code",
   "execution_count": 10,
   "metadata": {},
   "outputs": [
    {
     "name": "stdout",
     "output_type": "stream",
     "text": [
      "+-----+--------------------+--------------------+\n",
      "|label|               title|         description|\n",
      "+-----+--------------------+--------------------+\n",
      "|    3|Fears for T N pen...|Unions representi...|\n",
      "|    4|The Race is On: S...|SPACE.com - TORON...|\n",
      "|    4|Ky. Company Wins ...|AP - A company fo...|\n",
      "|    4|Prediction Unit H...|AP - It's barely ...|\n",
      "|    4|Calif. Aims to Li...|AP - Southern Cal...|\n",
      "|    4|Open Letter Again...|\"The British Depa...|\n",
      "|    4|Loosing the War o...|    \"\\\"\"Sven Jaschan|\n",
      "|    4|FOAFKey: FOAF, PG...|\\\\FOAF/LOAF  and ...|\n",
      "|    4|E-mail scam targe...|\"Wiltshire Police...|\n",
      "|    4|Card fraud unit n...|In its first two ...|\n",
      "+-----+--------------------+--------------------+\n",
      "\n"
     ]
    }
   ],
   "source": [
    "spark.sql(\"select * from news limit 10\").show()"
   ]
  },
  {
   "cell_type": "code",
   "execution_count": 11,
   "metadata": {},
   "outputs": [
    {
     "name": "stdout",
     "output_type": "stream",
     "text": [
      "+-------------------------------------------------------------------------------------------------------------------------------+\n",
      "|description                                                                                                                    |\n",
      "+-------------------------------------------------------------------------------------------------------------------------------+\n",
      "|Unions representing workers at Turner   Newall say they are 'disappointed' after talks with stricken parent firm Federal Mogul.|\n",
      "+-------------------------------------------------------------------------------------------------------------------------------+\n",
      "\n"
     ]
    }
   ],
   "source": [
    "df_spark.select('description').limit(1).show(truncate=False)"
   ]
  },
  {
   "cell_type": "code",
   "execution_count": null,
   "metadata": {},
   "outputs": [],
   "source": []
  },
  {
   "cell_type": "code",
   "execution_count": 12,
   "metadata": {},
   "outputs": [],
   "source": [
    "# df_spark.filter(df_spark.label==2).show(5)"
   ]
  },
  {
   "cell_type": "code",
   "execution_count": 13,
   "metadata": {},
   "outputs": [],
   "source": [
    "def count_specific_words(df, words):\n",
    "    \"\"\"Counts occurrences of given words in news descriptions\"\"\"\n",
    "\n",
    "    for word in words:\n",
    "        count = df.filter(F.col(\"description\").contains(word)).count()\n",
    "        print(f\"Word '{word}' appears {count} times.\")\n",
    "\n"
   ]
  },
  {
   "cell_type": "code",
   "execution_count": 14,
   "metadata": {},
   "outputs": [
    {
     "name": "stderr",
     "output_type": "stream",
     "text": [
      "<>:8: SyntaxWarning: invalid escape sequence '\\s'\n",
      "<>:8: SyntaxWarning: invalid escape sequence '\\s'\n",
      "<>:8: SyntaxWarning: invalid escape sequence '\\s'\n",
      "<>:8: SyntaxWarning: invalid escape sequence '\\s'\n",
      "C:\\Users\\kdkas\\AppData\\Local\\Temp\\ipykernel_15128\\3952236044.py:8: SyntaxWarning: invalid escape sequence '\\s'\n",
      "  lower(regexp_replace(df_spark[\"description\"], \"[^a-zA-Z\\s]\", \"\")), \"\\s+\"\n",
      "C:\\Users\\kdkas\\AppData\\Local\\Temp\\ipykernel_15128\\3952236044.py:8: SyntaxWarning: invalid escape sequence '\\s'\n",
      "  lower(regexp_replace(df_spark[\"description\"], \"[^a-zA-Z\\s]\", \"\")), \"\\s+\"\n"
     ]
    }
   ],
   "source": [
    "\n",
    "# Define target words\n",
    "target_words = [\"president\", \"the\", \"asia\"]\n",
    "\n",
    "# Clean text and split into words\n",
    "words_df = df_spark.select(\n",
    "    explode(\n",
    "        split(\n",
    "            lower(regexp_replace(df_spark[\"description\"], \"[^a-zA-Z\\s]\", \"\")), \"\\s+\"\n",
    "        )\n",
    "    ).alias(\"word\")\n",
    ")\n"
   ]
  },
  {
   "cell_type": "code",
   "execution_count": 15,
   "metadata": {},
   "outputs": [
    {
     "name": "stdout",
     "output_type": "stream",
     "text": [
      "+------------+\n",
      "|        word|\n",
      "+------------+\n",
      "|      unions|\n",
      "|representing|\n",
      "|     workers|\n",
      "|          at|\n",
      "|      turner|\n",
      "|      newall|\n",
      "|         say|\n",
      "|        they|\n",
      "|         are|\n",
      "|disappointed|\n",
      "|       after|\n",
      "|       talks|\n",
      "|        with|\n",
      "|    stricken|\n",
      "|      parent|\n",
      "|        firm|\n",
      "|     federal|\n",
      "|       mogul|\n",
      "|    spacecom|\n",
      "|     toronto|\n",
      "+------------+\n",
      "only showing top 20 rows\n",
      "\n"
     ]
    }
   ],
   "source": [
    "\n",
    "\n",
    "# Convert to lowercase and remove empty/null rows\n",
    "cleaned_words_df = words_df.filter(col(\"word\").isNotNull()) \\\n",
    "                           .filter(col(\"word\") != \"\") \\\n",
    "                           .filter(col(\"word\") != \" \")\n",
    "\n",
    "# Show the cleaned DataFrame\n",
    "cleaned_words_df.show()\n"
   ]
  },
  {
   "cell_type": "code",
   "execution_count": 16,
   "metadata": {},
   "outputs": [],
   "source": [
    "# Filter for target words\n",
    "filtered_words = cleaned_words_df.filter(col(\"word\").isin(target_words))"
   ]
  },
  {
   "cell_type": "code",
   "execution_count": 17,
   "metadata": {},
   "outputs": [],
   "source": [
    "# Count occurrences\n",
    "word_counts = filtered_words.groupBy(\"word\").count().orderBy(\"count\", ascending=False)"
   ]
  },
  {
   "cell_type": "code",
   "execution_count": 18,
   "metadata": {},
   "outputs": [
    {
     "name": "stdout",
     "output_type": "stream",
     "text": [
      "+---------+-----+\n",
      "|     word|count|\n",
      "+---------+-----+\n",
      "|      the|12303|\n",
      "|president|  333|\n",
      "|     asia|   23|\n",
      "+---------+-----+\n",
      "\n"
     ]
    }
   ],
   "source": [
    "word_counts.show()\n"
   ]
  },
  {
   "cell_type": "code",
   "execution_count": 19,
   "metadata": {},
   "outputs": [
    {
     "name": "stdout",
     "output_type": "stream",
     "text": [
      "c:\\Users\\kdkas\\Desktop\\DE task\\code\\outputs\\word_count_20250304.parquet\n",
      "Parquet file saved at: c:\\Users\\kdkas\\Desktop\\DE task\\code\\outputs\\word_count_20250304.parquet\n"
     ]
    }
   ],
   "source": [
    "import os\n",
    "from datetime import datetime\n",
    "\n",
    "# Generate date in YYYYMMDD format\n",
    "date_str = datetime.now().strftime(\"%Y%m%d\")\n",
    "\n",
    "# Define output directory (use absolute path)\n",
    "output_dir = os.path.abspath(\"../outputs\")  # Convert relative to absolute path\n",
    "os.makedirs(output_dir, exist_ok=True)  # Ensure directory exists\n",
    "\n",
    "# Construct full file path\n",
    "parquet_path = os.path.join(output_dir, f\"word_count_{date_str}.parquet\")\n",
    "print(parquet_path)\n",
    "\n",
    "# Save DataFrame as Parquet\n",
    "word_counts.write.parquet(parquet_path)\n",
    "\n",
    "print(f\"Parquet file saved at: {parquet_path}\")\n"
   ]
  },
  {
   "cell_type": "code",
   "execution_count": 6,
   "metadata": {},
   "outputs": [
    {
     "name": "stderr",
     "output_type": "stream",
     "text": [
      "<>:1: SyntaxWarning: invalid escape sequence '\\.'\n",
      "<>:1: SyntaxWarning: invalid escape sequence '\\.'\n",
      "C:\\Users\\kdkas\\AppData\\Local\\Temp\\ipykernel_1216\\1661983485.py:1: SyntaxWarning: invalid escape sequence '\\.'\n",
      "  df = pd.read_parquet(\"..\\..\\outputs\\word_count_20250313.parquet\")\n"
     ]
    }
   ],
   "source": [
    "df = pd.read_parquet(\"..\\..\\outputs\\word_count_20250313.parquet\")"
   ]
  },
  {
   "cell_type": "code",
   "execution_count": 7,
   "metadata": {},
   "outputs": [
    {
     "data": {
      "text/html": [
       "<div>\n",
       "<style scoped>\n",
       "    .dataframe tbody tr th:only-of-type {\n",
       "        vertical-align: middle;\n",
       "    }\n",
       "\n",
       "    .dataframe tbody tr th {\n",
       "        vertical-align: top;\n",
       "    }\n",
       "\n",
       "    .dataframe thead th {\n",
       "        text-align: right;\n",
       "    }\n",
       "</style>\n",
       "<table border=\"1\" class=\"dataframe\">\n",
       "  <thead>\n",
       "    <tr style=\"text-align: right;\">\n",
       "      <th></th>\n",
       "      <th>word</th>\n",
       "      <th>count</th>\n",
       "    </tr>\n",
       "  </thead>\n",
       "  <tbody>\n",
       "    <tr>\n",
       "      <th>0</th>\n",
       "      <td>the</td>\n",
       "      <td>12303</td>\n",
       "    </tr>\n",
       "    <tr>\n",
       "      <th>1</th>\n",
       "      <td>president</td>\n",
       "      <td>333</td>\n",
       "    </tr>\n",
       "    <tr>\n",
       "      <th>2</th>\n",
       "      <td>asia</td>\n",
       "      <td>23</td>\n",
       "    </tr>\n",
       "  </tbody>\n",
       "</table>\n",
       "</div>"
      ],
      "text/plain": [
       "        word  count\n",
       "0        the  12303\n",
       "1  president    333\n",
       "2       asia     23"
      ]
     },
     "execution_count": 7,
     "metadata": {},
     "output_type": "execute_result"
    }
   ],
   "source": [
    "df.head()"
   ]
  },
  {
   "cell_type": "code",
   "execution_count": null,
   "metadata": {},
   "outputs": [],
   "source": []
  },
  {
   "cell_type": "code",
   "execution_count": 28,
   "metadata": {},
   "outputs": [],
   "source": [
    "all = cleaned_words_df.groupBy(\"word\").count().orderBy(\"count\", ascending=False)"
   ]
  },
  {
   "cell_type": "code",
   "execution_count": 29,
   "metadata": {},
   "outputs": [
    {
     "name": "stdout",
     "output_type": "stream",
     "text": [
      "+----+-----+\n",
      "|word|count|\n",
      "+----+-----+\n",
      "| the|12303|\n",
      "|   a| 6474|\n",
      "|  to| 5976|\n",
      "|  of| 5522|\n",
      "|  in| 4727|\n",
      "| and| 4108|\n",
      "|  on| 2877|\n",
      "| for| 2356|\n",
      "|that| 1765|\n",
      "|   s| 1666|\n",
      "|with| 1460|\n",
      "| its| 1374|\n",
      "|  as| 1361|\n",
      "|  at| 1273|\n",
      "|said| 1243|\n",
      "|  is| 1241|\n",
      "|  by| 1200|\n",
      "| has| 1169|\n",
      "|  it| 1168|\n",
      "| new| 1053|\n",
      "+----+-----+\n",
      "only showing top 20 rows\n",
      "\n"
     ]
    }
   ],
   "source": [
    "all.show()"
   ]
  },
  {
   "cell_type": "code",
   "execution_count": 31,
   "metadata": {},
   "outputs": [
    {
     "name": "stdout",
     "output_type": "stream",
     "text": [
      "c:\\Users\\kdkas\\Desktop\\DE task\\code\\outputs\\word_count_all_20250304.parquet\n",
      "Parquet file saved at: c:\\Users\\kdkas\\Desktop\\DE task\\code\\outputs\\word_count_all_20250304.parquet\n"
     ]
    }
   ],
   "source": [
    "# Generate date in YYYYMMDD format\n",
    "from datetime import datetime\n",
    "date_str = datetime.now().strftime(\"%Y%m%d\")\n",
    "\n",
    "# Define output directory (use absolute path)\n",
    "output_dir = os.path.abspath(\"../outputs\")  # Convert relative to absolute path\n",
    "os.makedirs(output_dir, exist_ok=True)  # Ensure directory exists\n",
    "\n",
    "# Construct full file path\n",
    "parquet_path = os.path.join(output_dir, f\"word_count_all_{date_str}.parquet\")\n",
    "print(parquet_path)\n",
    "\n",
    "# Save DataFrame as Parquet\n",
    "all.write.parquet(parquet_path)\n",
    "\n",
    "print(f\"Parquet file saved at: {parquet_path}\")"
   ]
  },
  {
   "cell_type": "code",
   "execution_count": 8,
   "metadata": {},
   "outputs": [
    {
     "name": "stderr",
     "output_type": "stream",
     "text": [
      "<>:1: SyntaxWarning: invalid escape sequence '\\.'\n",
      "<>:1: SyntaxWarning: invalid escape sequence '\\.'\n",
      "C:\\Users\\kdkas\\AppData\\Local\\Temp\\ipykernel_1216\\1294041963.py:1: SyntaxWarning: invalid escape sequence '\\.'\n",
      "  df_all = pd.read_parquet(\"..\\..\\outputs\\word_count_all_20250313.parquet\")\n"
     ]
    }
   ],
   "source": [
    "df_all = pd.read_parquet(\"..\\..\\outputs\\word_count_all_20250313.parquet\")"
   ]
  },
  {
   "cell_type": "code",
   "execution_count": 9,
   "metadata": {},
   "outputs": [
    {
     "data": {
      "text/html": [
       "<div>\n",
       "<style scoped>\n",
       "    .dataframe tbody tr th:only-of-type {\n",
       "        vertical-align: middle;\n",
       "    }\n",
       "\n",
       "    .dataframe tbody tr th {\n",
       "        vertical-align: top;\n",
       "    }\n",
       "\n",
       "    .dataframe thead th {\n",
       "        text-align: right;\n",
       "    }\n",
       "</style>\n",
       "<table border=\"1\" class=\"dataframe\">\n",
       "  <thead>\n",
       "    <tr style=\"text-align: right;\">\n",
       "      <th></th>\n",
       "      <th>word</th>\n",
       "      <th>count</th>\n",
       "    </tr>\n",
       "  </thead>\n",
       "  <tbody>\n",
       "    <tr>\n",
       "      <th>0</th>\n",
       "      <td>the</td>\n",
       "      <td>12303</td>\n",
       "    </tr>\n",
       "    <tr>\n",
       "      <th>1</th>\n",
       "      <td>a</td>\n",
       "      <td>6474</td>\n",
       "    </tr>\n",
       "    <tr>\n",
       "      <th>2</th>\n",
       "      <td>to</td>\n",
       "      <td>5976</td>\n",
       "    </tr>\n",
       "    <tr>\n",
       "      <th>3</th>\n",
       "      <td>of</td>\n",
       "      <td>5522</td>\n",
       "    </tr>\n",
       "    <tr>\n",
       "      <th>4</th>\n",
       "      <td>in</td>\n",
       "      <td>4727</td>\n",
       "    </tr>\n",
       "  </tbody>\n",
       "</table>\n",
       "</div>"
      ],
      "text/plain": [
       "  word  count\n",
       "0  the  12303\n",
       "1    a   6474\n",
       "2   to   5976\n",
       "3   of   5522\n",
       "4   in   4727"
      ]
     },
     "execution_count": 9,
     "metadata": {},
     "output_type": "execute_result"
    }
   ],
   "source": [
    "df_all.head()"
   ]
  },
  {
   "cell_type": "code",
   "execution_count": 39,
   "metadata": {},
   "outputs": [],
   "source": [
    "\n",
    "def save_to_parquet(df, filename_prefix):\n",
    "    \"\"\"Save Results DataFrame to Parquet file\"\"\"\n",
    "    \n",
    "    date_str = datetime.now().strftime(\"%Y%m%d\")\n",
    "    outputs_dir = os.path.abspath(\"../../outputs\")\n",
    "\n",
    "    # Ensure the directory exists\n",
    "    os.makedirs(outputs_dir, exist_ok=True)\n",
    "\n",
    "    filename = f\"{filename_prefix}_{date_str}.parquet\"\n",
    "    parquet_path = os.path.join(outputs_dir, filename)\n",
    "\n",
    "    df.write.parquet(parquet_path)\n",
    "    print(f\"File saved: {parquet_path}\")\n"
   ]
  },
  {
   "cell_type": "code",
   "execution_count": 41,
   "metadata": {},
   "outputs": [
    {
     "name": "stdout",
     "output_type": "stream",
     "text": [
      "File saved: c:\\Users\\kdkas\\Desktop\\DE task\\outputs\\word_count_20250304.parquet\n"
     ]
    }
   ],
   "source": [
    "save_to_parquet(word_counts, 'word_count')"
   ]
  },
  {
   "cell_type": "code",
   "execution_count": null,
   "metadata": {},
   "outputs": [],
   "source": []
  },
  {
   "cell_type": "code",
   "execution_count": 41,
   "metadata": {},
   "outputs": [],
   "source": [
    "spark.stop()"
   ]
  },
  {
   "cell_type": "code",
   "execution_count": null,
   "metadata": {},
   "outputs": [],
   "source": []
  },
  {
   "cell_type": "code",
   "execution_count": null,
   "metadata": {},
   "outputs": [],
   "source": []
  }
 ],
 "metadata": {
  "kernelspec": {
   "display_name": "myenv",
   "language": "python",
   "name": "python3"
  },
  "language_info": {
   "codemirror_mode": {
    "name": "ipython",
    "version": 3
   },
   "file_extension": ".py",
   "mimetype": "text/x-python",
   "name": "python",
   "nbconvert_exporter": "python",
   "pygments_lexer": "ipython3",
   "version": "3.12.8"
  }
 },
 "nbformat": 4,
 "nbformat_minor": 2
}
